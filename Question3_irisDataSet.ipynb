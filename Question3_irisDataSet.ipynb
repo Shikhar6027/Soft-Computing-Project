{
  "nbformat": 4,
  "nbformat_minor": 0,
  "metadata": {
    "kernelspec": {
      "display_name": "Python 3",
      "language": "python",
      "name": "python3"
    },
    "language_info": {
      "codemirror_mode": {
        "name": "ipython",
        "version": 3
      },
      "file_extension": ".py",
      "mimetype": "text/x-python",
      "name": "python",
      "nbconvert_exporter": "python",
      "pygments_lexer": "ipython3",
      "version": "3.8.3"
    },
    "colab": {
      "name": "Question3_iris.ipynb",
      "provenance": []
    }
  },
  "cells": [
    {
      "cell_type": "code",
      "metadata": {
        "id": "7oLOXnNXW7PU"
      },
      "source": [
        "#importing libraries\n",
        "import pandas as pd\n",
        "from sklearn.preprocessing import LabelEncoder\n",
        "from sklearn import preprocessing\n",
        "from random import seed\n",
        "from random import randrange\n",
        "from random import random\n",
        "from csv import reader\n",
        "from math import exp\n",
        "from sklearn.model_selection import train_test_split"
      ],
      "execution_count": 73,
      "outputs": []
    },
    {
      "cell_type": "code",
      "metadata": {
        "id": "th_2VLQYW-9o"
      },
      "source": [
        ""
      ],
      "execution_count": 73,
      "outputs": []
    },
    {
      "cell_type": "code",
      "metadata": {
        "id": "pgokxIqpW7PW"
      },
      "source": [
        "#Loading dataset\n",
        "df_Iris=pd.read_csv(\"iris1.csv\", names=['A1','A2','A3','A4','A5'])"
      ],
      "execution_count": 74,
      "outputs": []
    },
    {
      "cell_type": "code",
      "metadata": {
        "colab": {
          "base_uri": "https://localhost:8080/"
        },
        "id": "G6N15Z97W7PX",
        "outputId": "bd37d8fe-f8ff-42a9-9de2-818a15a0cf3a"
      },
      "source": [
        "#Dimensions of Dataset\n",
        "df_Iris.shape"
      ],
      "execution_count": 75,
      "outputs": [
        {
          "output_type": "execute_result",
          "data": {
            "text/plain": [
              "(150, 5)"
            ]
          },
          "metadata": {
            "tags": []
          },
          "execution_count": 75
        }
      ]
    },
    {
      "cell_type": "code",
      "metadata": {
        "colab": {
          "base_uri": "https://localhost:8080/",
          "height": 206
        },
        "id": "_RqqMacVW7PX",
        "outputId": "f1c87ddd-6c38-4370-a150-a3f8fedabc02"
      },
      "source": [
        "#Printing 1st five tuples\n",
        "df_Iris.head()"
      ],
      "execution_count": 76,
      "outputs": [
        {
          "output_type": "execute_result",
          "data": {
            "text/html": [
              "<div>\n",
              "<style scoped>\n",
              "    .dataframe tbody tr th:only-of-type {\n",
              "        vertical-align: middle;\n",
              "    }\n",
              "\n",
              "    .dataframe tbody tr th {\n",
              "        vertical-align: top;\n",
              "    }\n",
              "\n",
              "    .dataframe thead th {\n",
              "        text-align: right;\n",
              "    }\n",
              "</style>\n",
              "<table border=\"1\" class=\"dataframe\">\n",
              "  <thead>\n",
              "    <tr style=\"text-align: right;\">\n",
              "      <th></th>\n",
              "      <th>A1</th>\n",
              "      <th>A2</th>\n",
              "      <th>A3</th>\n",
              "      <th>A4</th>\n",
              "      <th>A5</th>\n",
              "    </tr>\n",
              "  </thead>\n",
              "  <tbody>\n",
              "    <tr>\n",
              "      <th>0</th>\n",
              "      <td>5.1</td>\n",
              "      <td>3.5</td>\n",
              "      <td>1.4</td>\n",
              "      <td>0.2</td>\n",
              "      <td>Iris-setosa</td>\n",
              "    </tr>\n",
              "    <tr>\n",
              "      <th>1</th>\n",
              "      <td>4.9</td>\n",
              "      <td>3.0</td>\n",
              "      <td>1.4</td>\n",
              "      <td>0.2</td>\n",
              "      <td>Iris-setosa</td>\n",
              "    </tr>\n",
              "    <tr>\n",
              "      <th>2</th>\n",
              "      <td>4.7</td>\n",
              "      <td>3.2</td>\n",
              "      <td>1.3</td>\n",
              "      <td>0.2</td>\n",
              "      <td>Iris-setosa</td>\n",
              "    </tr>\n",
              "    <tr>\n",
              "      <th>3</th>\n",
              "      <td>4.6</td>\n",
              "      <td>3.1</td>\n",
              "      <td>1.5</td>\n",
              "      <td>0.2</td>\n",
              "      <td>Iris-setosa</td>\n",
              "    </tr>\n",
              "    <tr>\n",
              "      <th>4</th>\n",
              "      <td>5.0</td>\n",
              "      <td>3.6</td>\n",
              "      <td>1.4</td>\n",
              "      <td>0.2</td>\n",
              "      <td>Iris-setosa</td>\n",
              "    </tr>\n",
              "  </tbody>\n",
              "</table>\n",
              "</div>"
            ],
            "text/plain": [
              "    A1   A2   A3   A4           A5\n",
              "0  5.1  3.5  1.4  0.2  Iris-setosa\n",
              "1  4.9  3.0  1.4  0.2  Iris-setosa\n",
              "2  4.7  3.2  1.3  0.2  Iris-setosa\n",
              "3  4.6  3.1  1.5  0.2  Iris-setosa\n",
              "4  5.0  3.6  1.4  0.2  Iris-setosa"
            ]
          },
          "metadata": {
            "tags": []
          },
          "execution_count": 76
        }
      ]
    },
    {
      "cell_type": "code",
      "metadata": {
        "id": "QoUjVdVIW7PY"
      },
      "source": [
        "#Normalizing Labels\n",
        "labelencoder = LabelEncoder()                         \n",
        "df_Iris['A5'] = labelencoder.fit_transform(df_Iris['A5'])"
      ],
      "execution_count": 77,
      "outputs": []
    },
    {
      "cell_type": "code",
      "metadata": {
        "id": "-Zjkn78ZW7PY"
      },
      "source": [
        "#normalizing the dataset\n",
        "min_max = preprocessing.MinMaxScaler()                       \n",
        "scaled_df_Iris = min_max.fit_transform(df_Iris.values)\n",
        "final_df_Iris = pd.DataFrame(scaled_df_Iris,columns=[\"A1\",\"A2\",\"A3\",\"A4\",\"A5\"])"
      ],
      "execution_count": 78,
      "outputs": []
    },
    {
      "cell_type": "code",
      "metadata": {
        "scrolled": true,
        "colab": {
          "base_uri": "https://localhost:8080/",
          "height": 206
        },
        "id": "mZLgE74JW7PZ",
        "outputId": "c755de34-4e01-4703-9156-52cd7c21b804"
      },
      "source": [
        "#Printing 1st five rows after Normalizing the Dataset\n",
        "final_df_Iris.head()"
      ],
      "execution_count": 79,
      "outputs": [
        {
          "output_type": "execute_result",
          "data": {
            "text/html": [
              "<div>\n",
              "<style scoped>\n",
              "    .dataframe tbody tr th:only-of-type {\n",
              "        vertical-align: middle;\n",
              "    }\n",
              "\n",
              "    .dataframe tbody tr th {\n",
              "        vertical-align: top;\n",
              "    }\n",
              "\n",
              "    .dataframe thead th {\n",
              "        text-align: right;\n",
              "    }\n",
              "</style>\n",
              "<table border=\"1\" class=\"dataframe\">\n",
              "  <thead>\n",
              "    <tr style=\"text-align: right;\">\n",
              "      <th></th>\n",
              "      <th>A1</th>\n",
              "      <th>A2</th>\n",
              "      <th>A3</th>\n",
              "      <th>A4</th>\n",
              "      <th>A5</th>\n",
              "    </tr>\n",
              "  </thead>\n",
              "  <tbody>\n",
              "    <tr>\n",
              "      <th>0</th>\n",
              "      <td>0.222222</td>\n",
              "      <td>0.625000</td>\n",
              "      <td>0.067797</td>\n",
              "      <td>0.041667</td>\n",
              "      <td>0.0</td>\n",
              "    </tr>\n",
              "    <tr>\n",
              "      <th>1</th>\n",
              "      <td>0.166667</td>\n",
              "      <td>0.416667</td>\n",
              "      <td>0.067797</td>\n",
              "      <td>0.041667</td>\n",
              "      <td>0.0</td>\n",
              "    </tr>\n",
              "    <tr>\n",
              "      <th>2</th>\n",
              "      <td>0.111111</td>\n",
              "      <td>0.500000</td>\n",
              "      <td>0.050847</td>\n",
              "      <td>0.041667</td>\n",
              "      <td>0.0</td>\n",
              "    </tr>\n",
              "    <tr>\n",
              "      <th>3</th>\n",
              "      <td>0.083333</td>\n",
              "      <td>0.458333</td>\n",
              "      <td>0.084746</td>\n",
              "      <td>0.041667</td>\n",
              "      <td>0.0</td>\n",
              "    </tr>\n",
              "    <tr>\n",
              "      <th>4</th>\n",
              "      <td>0.194444</td>\n",
              "      <td>0.666667</td>\n",
              "      <td>0.067797</td>\n",
              "      <td>0.041667</td>\n",
              "      <td>0.0</td>\n",
              "    </tr>\n",
              "  </tbody>\n",
              "</table>\n",
              "</div>"
            ],
            "text/plain": [
              "         A1        A2        A3        A4   A5\n",
              "0  0.222222  0.625000  0.067797  0.041667  0.0\n",
              "1  0.166667  0.416667  0.067797  0.041667  0.0\n",
              "2  0.111111  0.500000  0.050847  0.041667  0.0\n",
              "3  0.083333  0.458333  0.084746  0.041667  0.0\n",
              "4  0.194444  0.666667  0.067797  0.041667  0.0"
            ]
          },
          "metadata": {
            "tags": []
          },
          "execution_count": 79
        }
      ]
    },
    {
      "cell_type": "code",
      "metadata": {
        "id": "IcHTeVYrW7PZ"
      },
      "source": [
        "#Labels will be same as the original dataset\n",
        "final_df_Iris['A5']=df_Iris['A5']       "
      ],
      "execution_count": 80,
      "outputs": []
    },
    {
      "cell_type": "code",
      "metadata": {
        "colab": {
          "base_uri": "https://localhost:8080/",
          "height": 206
        },
        "id": "0rV4yzNUW7Pa",
        "outputId": "f92543ac-cdad-4972-f9c6-33f28ce27a5c"
      },
      "source": [
        "final_df_Iris.head()"
      ],
      "execution_count": 81,
      "outputs": [
        {
          "output_type": "execute_result",
          "data": {
            "text/html": [
              "<div>\n",
              "<style scoped>\n",
              "    .dataframe tbody tr th:only-of-type {\n",
              "        vertical-align: middle;\n",
              "    }\n",
              "\n",
              "    .dataframe tbody tr th {\n",
              "        vertical-align: top;\n",
              "    }\n",
              "\n",
              "    .dataframe thead th {\n",
              "        text-align: right;\n",
              "    }\n",
              "</style>\n",
              "<table border=\"1\" class=\"dataframe\">\n",
              "  <thead>\n",
              "    <tr style=\"text-align: right;\">\n",
              "      <th></th>\n",
              "      <th>A1</th>\n",
              "      <th>A2</th>\n",
              "      <th>A3</th>\n",
              "      <th>A4</th>\n",
              "      <th>A5</th>\n",
              "    </tr>\n",
              "  </thead>\n",
              "  <tbody>\n",
              "    <tr>\n",
              "      <th>0</th>\n",
              "      <td>0.222222</td>\n",
              "      <td>0.625000</td>\n",
              "      <td>0.067797</td>\n",
              "      <td>0.041667</td>\n",
              "      <td>0</td>\n",
              "    </tr>\n",
              "    <tr>\n",
              "      <th>1</th>\n",
              "      <td>0.166667</td>\n",
              "      <td>0.416667</td>\n",
              "      <td>0.067797</td>\n",
              "      <td>0.041667</td>\n",
              "      <td>0</td>\n",
              "    </tr>\n",
              "    <tr>\n",
              "      <th>2</th>\n",
              "      <td>0.111111</td>\n",
              "      <td>0.500000</td>\n",
              "      <td>0.050847</td>\n",
              "      <td>0.041667</td>\n",
              "      <td>0</td>\n",
              "    </tr>\n",
              "    <tr>\n",
              "      <th>3</th>\n",
              "      <td>0.083333</td>\n",
              "      <td>0.458333</td>\n",
              "      <td>0.084746</td>\n",
              "      <td>0.041667</td>\n",
              "      <td>0</td>\n",
              "    </tr>\n",
              "    <tr>\n",
              "      <th>4</th>\n",
              "      <td>0.194444</td>\n",
              "      <td>0.666667</td>\n",
              "      <td>0.067797</td>\n",
              "      <td>0.041667</td>\n",
              "      <td>0</td>\n",
              "    </tr>\n",
              "  </tbody>\n",
              "</table>\n",
              "</div>"
            ],
            "text/plain": [
              "         A1        A2        A3        A4  A5\n",
              "0  0.222222  0.625000  0.067797  0.041667   0\n",
              "1  0.166667  0.416667  0.067797  0.041667   0\n",
              "2  0.111111  0.500000  0.050847  0.041667   0\n",
              "3  0.083333  0.458333  0.084746  0.041667   0\n",
              "4  0.194444  0.666667  0.067797  0.041667   0"
            ]
          },
          "metadata": {
            "tags": []
          },
          "execution_count": 81
        }
      ]
    },
    {
      "cell_type": "code",
      "metadata": {
        "id": "JwHTwlOQW7Pa"
      },
      "source": [
        "#Converting the final dataset to .csv file\n",
        "final_df_Iris.to_csv('iris2.csv',index=False, header=False)"
      ],
      "execution_count": 82,
      "outputs": []
    },
    {
      "cell_type": "code",
      "metadata": {
        "id": "YnnxCw9YW7Pa"
      },
      "source": [
        "#Loading the pre-processed dataset\n",
        "data_iris=df_Iris=pd.read_csv('iris2.csv', header=None)"
      ],
      "execution_count": 83,
      "outputs": []
    },
    {
      "cell_type": "code",
      "metadata": {
        "id": "MyRrTLRIW7Pb"
      },
      "source": [
        "#Loading .csv file\n",
        "def load_csv(filename):\n",
        "    df = list()\n",
        "    with open(filename, 'r') as file:\n",
        "        csv_reader = reader(file)\n",
        "        for tuple in csv_reader:\n",
        "            if not tuple:\n",
        "                continue\n",
        "            df.append(tuple)\n",
        "    return df"
      ],
      "execution_count": 84,
      "outputs": []
    },
    {
      "cell_type": "code",
      "metadata": {
        "id": "RjTEu4y6W7Pb"
      },
      "source": [
        "#Function for converting string values to float\n",
        "def str_col_to_float(dataset, col):\n",
        "    for tuple in dataset:\n",
        "        tuple[col] = float(tuple[col].strip())"
      ],
      "execution_count": 85,
      "outputs": []
    },
    {
      "cell_type": "code",
      "metadata": {
        "id": "VzKn-WyBdPHc"
      },
      "source": [
        "#Function for converting string values to int\n",
        "def str_col_to_int(dataset, col):\n",
        "    class_val = [tuple[col] for tuple in dataset]\n",
        "    unique_val = set(class_val)\n",
        "    lookup_val = dict()\n",
        "    for i, value in enumerate(unique_val):\n",
        "        lookup_val[value] = i\n",
        "    for tuple in dataset:\n",
        "        tuple[col] = lookup_val[tuple[col]]\n",
        "    return lookup_val"
      ],
      "execution_count": 86,
      "outputs": []
    },
    {
      "cell_type": "code",
      "metadata": {
        "id": "kWkaiSEPW7Pb"
      },
      "source": [
        "#Creating Accuracy Matrix \n",
        "def accuracy_metric(act_value, pred_value):\n",
        "    count = 0\n",
        "    for i in range(len(act_value)):\n",
        "        if act_value[i] == pred_value[i]:\n",
        "            count += 1\n",
        "    return count / float(len(act_value)) * 100.0"
      ],
      "execution_count": 87,
      "outputs": []
    },
    {
      "cell_type": "code",
      "metadata": {
        "id": "1glH9FZMW7Pc"
      },
      "source": [
        "def algo_evaluation(training_dataset, test_dataset, *args):\n",
        "    test_data = list()   \n",
        "    act_value = [tuple[-1] for tuple in test_dataset]\n",
        "    for tuple in test_dataset:\n",
        "        tuple_c = tuple\n",
        "        tuple_c[-1] = None\n",
        "        test_data.append(tuple_c)\n",
        "    pred_value = back_propagation(training_dataset, test_data, *args)\n",
        "    accuracy = accuracy_metric(act_value, pred_value)\n",
        "    return accuracy"
      ],
      "execution_count": 88,
      "outputs": []
    },
    {
      "cell_type": "code",
      "metadata": {
        "id": "qAseXlVWW7Pc"
      },
      "source": [
        "#Calculation Activate of a Neuron\n",
        "def activate(weights, inputs):\n",
        "    activation = weights[-1]\n",
        "    for i in range(len(weights)-1):\n",
        "        activation += weights[i] * inputs[i]\n",
        "    return activation"
      ],
      "execution_count": 89,
      "outputs": []
    },
    {
      "cell_type": "code",
      "metadata": {
        "id": "Qhl1_MfLW7Pc"
      },
      "source": [
        "#using the sigmoid function to transfer the activation\n",
        "def transfer(activation):\n",
        "    return 1.0 / (1.0 + exp(-activation))"
      ],
      "execution_count": 90,
      "outputs": []
    },
    {
      "cell_type": "code",
      "metadata": {
        "id": "JBurd62XW7Pc"
      },
      "source": [
        "#Forward Propagation\n",
        "def forward_propagation(network, tuple):\n",
        "    inputs = tuple\n",
        "    for layer in network:\n",
        "        next_inputs = []\n",
        "        for neuron in layer:\n",
        "            activation = activate(neuron['weights'], inputs)\n",
        "            neuron['output'] = transfer(activation)\n",
        "            next_inputs.append(neuron['output'])\n",
        "        inputs = next_inputs\n",
        "    return inputs"
      ],
      "execution_count": 91,
      "outputs": []
    },
    {
      "cell_type": "code",
      "metadata": {
        "id": "_S9JmE5iW7Pc"
      },
      "source": [
        "#Calculating derivative of an output\n",
        "def derivative_transfer(output):\n",
        "    return output * (1.0 - output)"
      ],
      "execution_count": 92,
      "outputs": []
    },
    {
      "cell_type": "code",
      "metadata": {
        "id": "1-V33FY5W7Pd"
      },
      "source": [
        "#Calculation Backward Propagation Error\n",
        "def backward_propagation_error(network, expected):\n",
        "    for i in reversed(range(len(network))):\n",
        "        layer = network[i]\n",
        "        errors = list()\n",
        "        if i != len(network)-1:\n",
        "            for j in range(len(layer)):\n",
        "                error = 0.0\n",
        "                for neuron in network[i + 1]:\n",
        "                    error += (neuron['weights'][j] * neuron['delta'])\n",
        "                errors.append(error)\n",
        "        else:\n",
        "            for j in range(len(layer)):\n",
        "                neuron = layer[j]\n",
        "                errors.append(expected[j] - neuron['output'])\n",
        "        for j in range(len(layer)):\n",
        "            neuron = layer[j]\n",
        "            neuron['delta'] = errors[j] * derivative_transfer(neuron['output'])"
      ],
      "execution_count": 93,
      "outputs": []
    },
    {
      "cell_type": "code",
      "metadata": {
        "id": "fRVf8TB2W7Pd"
      },
      "source": [
        "#Updating Weights\n",
        "def weights_updation(network, tuple, learning_rate):\n",
        "    for i in range(len(network)):\n",
        "        inputs = tuple[:-1]\n",
        "        if i != 0:\n",
        "            inputs = [neuron['output'] for neuron in network[i - 1]]\n",
        "        for neuron in network[i]:\n",
        "            for j in range(len(inputs)):\n",
        "                neuron['weights'][j] += learning_rate * neuron['delta'] * inputs[j]\n",
        "            neuron['weights'][-1] += learning_rate * neuron['delta']"
      ],
      "execution_count": 94,
      "outputs": []
    },
    {
      "cell_type": "code",
      "metadata": {
        "id": "bJHDAvJwW7Pd"
      },
      "source": [
        "#Training the Network\n",
        "def train_network(network, train, learning_rate, num_epoch, n_outputs):\n",
        "    for epoch in range(num_epoch):\n",
        "        for tuple in train:\n",
        "            outputs = forward_propagation(network, tuple)\n",
        "            expected = [0 for i in range(n_outputs)]\n",
        "            expected[tuple[-1]] = 1\n",
        "            backward_propagation_error(network, expected)\n",
        "            weights_updation(network, tuple, learning_rate)"
      ],
      "execution_count": 95,
      "outputs": []
    },
    {
      "cell_type": "code",
      "metadata": {
        "id": "LAu3ekL4W7Pd"
      },
      "source": [
        "#Initializing the Network\n",
        "def network_init(n_inputs, num_hidden, n_outputs):\n",
        "    net = list()\n",
        "    hidden_layer = [{'weights':[random() for j in range(n_inputs + 1)]} for j in range(num_hidden)]\n",
        "    net.append(hidden_layer)\n",
        "    output_layer = [{'weights':[random() for j in range(num_hidden + 1)]} for j in range(n_outputs)]\n",
        "    net.append(output_layer)\n",
        "    return net"
      ],
      "execution_count": 96,
      "outputs": []
    },
    {
      "cell_type": "code",
      "metadata": {
        "id": "jW-RbDGoW7Pe"
      },
      "source": [
        "#returns the index in the network output that has the largest probability\n",
        "def predict(network, tuple):\n",
        "    outputs = forward_propagation(network, tuple)\n",
        "    return outputs.index(max(outputs))"
      ],
      "execution_count": 97,
      "outputs": []
    },
    {
      "cell_type": "code",
      "metadata": {
        "id": "aM103nm9W7Pe"
      },
      "source": [
        "#Back-Propagation\n",
        "def back_propagation(train, test, learning_rate, num_epoch, num_hidden):\n",
        "    n_inputs = len(train[0]) - 1\n",
        "    n_outputs = len(set([tuple[-1] for tuple in train]))\n",
        "    network = network_init(n_inputs, num_hidden, n_outputs)\n",
        "    train_network(network, train, learning_rate, num_epoch, n_outputs)\n",
        "    predictions = list()\n",
        "    for tuple in test:\n",
        "        prediction = predict(network, tuple)\n",
        "        predictions.append(prediction)\n",
        "    return(predictions)"
      ],
      "execution_count": 98,
      "outputs": []
    },
    {
      "cell_type": "code",
      "metadata": {
        "scrolled": true,
        "colab": {
          "base_uri": "https://localhost:8080/"
        },
        "id": "6w7bXkxFW7Pe",
        "outputId": "485e7f9e-9ee2-493f-9d3d-2d5915a6bf16"
      },
      "source": [
        "seed(1)\n",
        "scores=list()\n",
        "\n",
        "for j in range(20):\n",
        "    train, test = train_test_split(data_iris, test_size=0.3, shuffle=True)\n",
        "    train.to_csv('iris_train.csv', index=False, header=False)\n",
        "    test.to_csv('iris_test.csv', index=False, header=False)\n",
        "    filename = 'iris_train.csv'\n",
        "    training_dataset = load_csv(filename)\n",
        "    filename='iris_test.csv'\n",
        "    test_dataset = load_csv(filename)\n",
        "    \n",
        "    for i in range(len(training_dataset[0])-1):\n",
        "        str_col_to_float(training_dataset, i)\n",
        "    str_col_to_int(training_dataset, len(training_dataset[0])-1)\n",
        "    \n",
        "    for i in range(len(test_dataset[0])-1):\n",
        "        str_col_to_float(test_dataset, i)\n",
        "    str_col_to_int(test_dataset, len(test_dataset[0])-1)\n",
        "\n",
        "    learning_rate = 0.5\n",
        "    num_epoch = 1500\n",
        "    num_hidden = 7\n",
        "    accuracy = algo_evaluation(training_dataset, test_dataset, learning_rate, num_epoch, num_hidden)\n",
        "    scores.append(accuracy)\n",
        "    print('Iteration %s' % (j+1))\n",
        "    print('Accuracy: %.3f%%'% accuracy)\n",
        "print (scores)\n",
        "print('The Mean Accuracy is: %.3f%%' % (sum(scores)/20))"
      ],
      "execution_count": 99,
      "outputs": [
        {
          "output_type": "stream",
          "text": [
            "Iteration 1\n",
            "Accuracy: 95.556%\n",
            "Iteration 2\n",
            "Accuracy: 95.556%\n",
            "Iteration 3\n",
            "Accuracy: 95.556%\n",
            "Iteration 4\n",
            "Accuracy: 97.778%\n",
            "Iteration 5\n",
            "Accuracy: 95.556%\n",
            "Iteration 6\n",
            "Accuracy: 93.333%\n",
            "Iteration 7\n",
            "Accuracy: 95.556%\n",
            "Iteration 8\n",
            "Accuracy: 97.778%\n",
            "Iteration 9\n",
            "Accuracy: 100.000%\n",
            "Iteration 10\n",
            "Accuracy: 97.778%\n",
            "Iteration 11\n",
            "Accuracy: 100.000%\n",
            "Iteration 12\n",
            "Accuracy: 97.778%\n",
            "Iteration 13\n",
            "Accuracy: 97.778%\n",
            "Iteration 14\n",
            "Accuracy: 100.000%\n",
            "Iteration 15\n",
            "Accuracy: 95.556%\n",
            "Iteration 16\n",
            "Accuracy: 97.778%\n",
            "Iteration 17\n",
            "Accuracy: 91.111%\n",
            "Iteration 18\n",
            "Accuracy: 95.556%\n",
            "Iteration 19\n",
            "Accuracy: 91.111%\n",
            "Iteration 20\n",
            "Accuracy: 97.778%\n",
            "[95.55555555555556, 95.55555555555556, 95.55555555555556, 97.77777777777777, 95.55555555555556, 93.33333333333333, 95.55555555555556, 97.77777777777777, 100.0, 97.77777777777777, 100.0, 97.77777777777777, 97.77777777777777, 100.0, 95.55555555555556, 97.77777777777777, 91.11111111111111, 95.55555555555556, 91.11111111111111, 97.77777777777777]\n",
            "The Mean Accuracy is: 96.444%\n"
          ],
          "name": "stdout"
        }
      ]
    },
    {
      "cell_type": "code",
      "metadata": {
        "id": "y0yE50VmW7Pf"
      },
      "source": [
        ""
      ],
      "execution_count": 99,
      "outputs": []
    }
  ]
}